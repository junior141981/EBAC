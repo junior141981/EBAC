{
 "cells": [
  {
   "cell_type": "code",
   "execution_count": 1,
   "id": "c1a692ff",
   "metadata": {},
   "outputs": [
    {
     "name": "stdout",
     "output_type": "stream",
     "text": [
      "olá Mundo\n"
     ]
    }
   ],
   "source": [
    "# exercício 01 \n",
    "print(\"olá Mundo\")"
   ]
  },
  {
   "cell_type": "code",
   "execution_count": null,
   "id": "c6337315",
   "metadata": {},
   "outputs": [],
   "source": []
  },
  {
   "cell_type": "code",
   "execution_count": 2,
   "id": "c25b4152",
   "metadata": {},
   "outputs": [
    {
     "name": "stdout",
     "output_type": "stream",
     "text": [
      "106.83999999999999\n"
     ]
    }
   ],
   "source": [
    "# exercício 02\n",
    "#(A)\n",
    "tkt_19 = 320.52\n",
    "sqv_19 = 3\n",
    "svv_19 = tkt_19 / sqv_19\n",
    "print(svv_19)"
   ]
  },
  {
   "cell_type": "code",
   "execution_count": 4,
   "id": "a608d9a8",
   "metadata": {},
   "outputs": [
    {
     "name": "stdout",
     "output_type": "stream",
     "text": [
      "7.000000000000001\n"
     ]
    }
   ],
   "source": [
    "#(B)\n",
    "tkt_20 = 119.21\n",
    "ssv_20 = 834.47\n",
    "sqv_20 = ssv_20 / tkt_20\n",
    "print(sqv_20)"
   ]
  },
  {
   "cell_type": "code",
   "execution_count": 5,
   "id": "94b23e85",
   "metadata": {},
   "outputs": [
    {
     "name": "stdout",
     "output_type": "stream",
     "text": [
      "3075.6240000000003\n"
     ]
    }
   ],
   "source": [
    "#(C)\n",
    "ssv_23 = 15378.12\n",
    "sqv_23 = 5\n",
    "tkt_23 = ssv_23 / sqv_23\n",
    "print(tkt_23)"
   ]
  },
  {
   "cell_type": "code",
   "execution_count": 6,
   "id": "9e3f278c",
   "metadata": {},
   "outputs": [],
   "source": [
    "# exercíco 03\n",
    "musica = 'Roda mundo, roda gigante, roda moinho, roda piao'\n"
   ]
  },
  {
   "cell_type": "code",
   "execution_count": 11,
   "id": "3615b084",
   "metadata": {},
   "outputs": [
    {
     "ename": "TypeError",
     "evalue": "unbound method str.upper() needs an argument",
     "output_type": "error",
     "traceback": [
      "\u001b[1;31m---------------------------------------------------------------------------\u001b[0m",
      "\u001b[1;31mTypeError\u001b[0m                                 Traceback (most recent call last)",
      "\u001b[1;32m~\\AppData\\Local\\Temp\\ipykernel_4648\\4197745193.py\u001b[0m in \u001b[0;36m<module>\u001b[1;34m\u001b[0m\n\u001b[1;32m----> 1\u001b[1;33m \u001b[0mmusica\u001b[0m \u001b[1;33m=\u001b[0m \u001b[0mstr\u001b[0m\u001b[1;33m.\u001b[0m\u001b[0mupper\u001b[0m \u001b[1;33m(\u001b[0m\u001b[1;33m)\u001b[0m\u001b[1;33m\u001b[0m\u001b[1;33m\u001b[0m\u001b[0m\n\u001b[0m\u001b[0;32m      2\u001b[0m \u001b[0mprint\u001b[0m\u001b[1;33m(\u001b[0m\u001b[0mmusica\u001b[0m\u001b[1;33m.\u001b[0m\u001b[0mupper\u001b[0m\u001b[1;33m(\u001b[0m\u001b[1;33m)\u001b[0m\u001b[1;33m)\u001b[0m\u001b[1;33m\u001b[0m\u001b[1;33m\u001b[0m\u001b[0m\n",
      "\u001b[1;31mTypeError\u001b[0m: unbound method str.upper() needs an argument"
     ]
    }
   ],
   "source": [
    "musica = str.upper ()\n",
    "print(musica.upper())"
   ]
  },
  {
   "cell_type": "code",
   "execution_count": 13,
   "id": "152474c7",
   "metadata": {},
   "outputs": [],
   "source": [
    "noticia = \"Selic vai a 2,75% e supera expectativas; é a primeira alta em 6 anos.\""
   ]
  },
  {
   "cell_type": "code",
   "execution_count": 22,
   "id": "aedfd4e8",
   "metadata": {},
   "outputs": [
    {
     "name": "stdout",
     "output_type": "stream",
     "text": [
      " 2,75%\n"
     ]
    }
   ],
   "source": [
    "noticia_usuario = noticia[11:17]\n",
    "print(noticia_usuario)"
   ]
  },
  {
   "cell_type": "code",
   "execution_count": 28,
   "id": "ffab04fe",
   "metadata": {},
   "outputs": [
    {
     "name": "stdout",
     "output_type": "stream",
     "text": [
      " 6 anos.\n"
     ]
    }
   ],
   "source": [
    "noticia_usuario = noticia[61:70]\n",
    "print(noticia_usuario)"
   ]
  },
  {
   "cell_type": "code",
   "execution_count": 29,
   "id": "328e700e",
   "metadata": {},
   "outputs": [],
   "source": [
    "a = False\n",
    "b = True\n",
    "x = not a & b"
   ]
  },
  {
   "cell_type": "code",
   "execution_count": 30,
   "id": "6f6fa3dc",
   "metadata": {},
   "outputs": [
    {
     "name": "stdout",
     "output_type": "stream",
     "text": [
      "True\n"
     ]
    }
   ],
   "source": [
    "print(x)"
   ]
  },
  {
   "cell_type": "code",
   "execution_count": null,
   "id": "25dc8992",
   "metadata": {},
   "outputs": [],
   "source": []
  }
 ],
 "metadata": {
  "kernelspec": {
   "display_name": "Python 3 (ipykernel)",
   "language": "python",
   "name": "python3"
  },
  "language_info": {
   "codemirror_mode": {
    "name": "ipython",
    "version": 3
   },
   "file_extension": ".py",
   "mimetype": "text/x-python",
   "name": "python",
   "nbconvert_exporter": "python",
   "pygments_lexer": "ipython3",
   "version": "3.9.13"
  }
 },
 "nbformat": 4,
 "nbformat_minor": 5
}
